{
 "cells": [
  {
   "cell_type": "markdown",
   "metadata": {},
   "source": [
    "## Scraping Rotten Tomatoes Website with BeautifulSoup\n",
    "\n",
    "In this notebook, we will use python libraries requests and BeautifulSoup to scrape information about 140 essential action movies to watch from rotten tomatoes website shown below\n",
    "\n",
    "<img src='webpage_ss.png' width=600 height=60 />\n",
    "\n",
    "This notebook is based on \"Web Scraping and API Fundamentals in Python\" Udemy Course: https://www.udemy.com/course/web-scraping-and-api-fundamentals-in-python/"
   ]
  },
  {
   "cell_type": "markdown",
   "metadata": {},
   "source": [
    "#### import packages"
   ]
  },
  {
   "cell_type": "code",
   "execution_count": 1,
   "metadata": {},
   "outputs": [],
   "source": [
    "import requests\n",
    "from bs4 import BeautifulSoup"
   ]
  },
  {
   "cell_type": "code",
   "execution_count": 2,
   "metadata": {},
   "outputs": [
    {
     "data": {
      "text/plain": [
       "<Response [200]>"
      ]
     },
     "execution_count": 2,
     "metadata": {},
     "output_type": "execute_result"
    }
   ],
   "source": [
    "base_url = \"https://editorial.rottentomatoes.com/guide/140-essential-action-movies-to-watch-now/\"\n",
    "\n",
    "response = requests.get(base_url)\n",
    "response"
   ]
  },
  {
   "cell_type": "code",
   "execution_count": 3,
   "metadata": {},
   "outputs": [],
   "source": [
    "html = response.content"
   ]
  },
  {
   "cell_type": "markdown",
   "metadata": {},
   "source": [
    "#### Parse with BeautifulSoup"
   ]
  },
  {
   "cell_type": "code",
   "execution_count": 4,
   "metadata": {},
   "outputs": [],
   "source": [
    "soup = BeautifulSoup(html, 'lxml')\n",
    "\n",
    "# save the parsed html file\n",
    "with open(\"rotten_tomatoes_page_2_LXML_Parser.html\",\"wb\") as file:\n",
    "    file.write(soup.prettify('utf-8'))\n",
    "    \n",
    "divs = soup.find_all('div',{'class':\"col-sm-18 col-full-xs countdown-item-content\"})"
   ]
  },
  {
   "cell_type": "markdown",
   "metadata": {},
   "source": [
    "#### extract title, year, and score"
   ]
  },
  {
   "cell_type": "code",
   "execution_count": 5,
   "metadata": {},
   "outputs": [
    {
     "data": {
      "text/plain": [
       "<h2><a href=\"https://www.rottentomatoes.com/m/1018009-running_scared\">Running Scared</a> <span class=\"subtle start-year\">(1986)</span> <span class=\"icon tiny fresh\" title=\"Fresh\"></span> <span class=\"tMeterScore\">63%</span></h2>"
      ]
     },
     "execution_count": 5,
     "metadata": {},
     "output_type": "execute_result"
    }
   ],
   "source": [
    "headings = [div.find(\"h2\") for div in divs]\n",
    "headings[0]"
   ]
  },
  {
   "cell_type": "code",
   "execution_count": 6,
   "metadata": {},
   "outputs": [],
   "source": [
    "movie_names = [heading.find('a').string for heading in headings]\n",
    "\n",
    "years = [heading.find('span',class_='start-year').string for heading in headings]\n",
    "years = [year.strip('()') for year in years]\n",
    "years = [int(year) for year in years]"
   ]
  },
  {
   "cell_type": "code",
   "execution_count": 7,
   "metadata": {},
   "outputs": [],
   "source": [
    "scores = [heading.find('span',class_='tMeterScore').string for heading in headings] \n",
    "scores = [s.strip('%') for s in scores]\n",
    "scores = [int(s) for s in scores]"
   ]
  },
  {
   "cell_type": "markdown",
   "metadata": {},
   "source": [
    "#### extract critics consensus"
   ]
  },
  {
   "cell_type": "code",
   "execution_count": 10,
   "metadata": {},
   "outputs": [],
   "source": [
    "consensus = [div.find('div',{'class':'info critics-consensus'}) for div in divs]"
   ]
  },
  {
   "cell_type": "code",
   "execution_count": 11,
   "metadata": {},
   "outputs": [
    {
     "data": {
      "text/plain": [
       "<div class=\"info critics-consensus\"><span class=\"descriptor\">Critics Consensus:</span> <em>Running Scared</em> struggles to strike a consistent balance between violent action and humor, but the chemistry between its well-matched leads keeps things entertaining.</div>"
      ]
     },
     "execution_count": 11,
     "metadata": {},
     "output_type": "execute_result"
    }
   ],
   "source": [
    "consensus[0]"
   ]
  },
  {
   "cell_type": "code",
   "execution_count": 12,
   "metadata": {},
   "outputs": [
    {
     "data": {
      "text/plain": [
       "'Running Scared struggles to strike a consistent balance between violent action and humor, but the chemistry between its well-matched leads keeps things entertaining.'"
      ]
     },
     "execution_count": 12,
     "metadata": {},
     "output_type": "execute_result"
    }
   ],
   "source": [
    "common_phrase = \"Critics Consensus: \"\n",
    "common_len = len(common_phrase)\n",
    "consensus_txt = [con.text[common_len:] for con in consensus]\n",
    "consensus_txt[0]"
   ]
  },
  {
   "cell_type": "markdown",
   "metadata": {},
   "source": [
    "### Saving data as pandas dataframe"
   ]
  },
  {
   "cell_type": "code",
   "execution_count": 13,
   "metadata": {},
   "outputs": [],
   "source": [
    "import pandas as pd"
   ]
  },
  {
   "cell_type": "code",
   "execution_count": 14,
   "metadata": {},
   "outputs": [
    {
     "data": {
      "text/html": [
       "<div>\n",
       "<style scoped>\n",
       "    .dataframe tbody tr th:only-of-type {\n",
       "        vertical-align: middle;\n",
       "    }\n",
       "\n",
       "    .dataframe tbody tr th {\n",
       "        vertical-align: top;\n",
       "    }\n",
       "\n",
       "    .dataframe thead th {\n",
       "        text-align: right;\n",
       "    }\n",
       "</style>\n",
       "<table border=\"1\" class=\"dataframe\">\n",
       "  <thead>\n",
       "    <tr style=\"text-align: right;\">\n",
       "      <th></th>\n",
       "      <th>Movie Name</th>\n",
       "      <th>Year</th>\n",
       "      <th>Score</th>\n",
       "      <th>Consensus Critic</th>\n",
       "    </tr>\n",
       "  </thead>\n",
       "  <tbody>\n",
       "    <tr>\n",
       "      <td>0</td>\n",
       "      <td>Running Scared</td>\n",
       "      <td>1986</td>\n",
       "      <td>63</td>\n",
       "      <td>Running Scared struggles to strike a consisten...</td>\n",
       "    </tr>\n",
       "    <tr>\n",
       "      <td>1</td>\n",
       "      <td>Equilibrium</td>\n",
       "      <td>2002</td>\n",
       "      <td>40</td>\n",
       "      <td>Equilibrium is a reheated mishmash of other sc...</td>\n",
       "    </tr>\n",
       "    <tr>\n",
       "      <td>2</td>\n",
       "      <td>Hero</td>\n",
       "      <td>2002</td>\n",
       "      <td>94</td>\n",
       "      <td>With death-defying action sequences and epic h...</td>\n",
       "    </tr>\n",
       "    <tr>\n",
       "      <td>3</td>\n",
       "      <td>Road House</td>\n",
       "      <td>1989</td>\n",
       "      <td>41</td>\n",
       "      <td>Whether Road House is simply bad or so bad it'...</td>\n",
       "    </tr>\n",
       "    <tr>\n",
       "      <td>4</td>\n",
       "      <td>Unstoppable</td>\n",
       "      <td>2010</td>\n",
       "      <td>87</td>\n",
       "      <td>As fast, loud, and relentless as the train at ...</td>\n",
       "    </tr>\n",
       "    <tr>\n",
       "      <td>...</td>\n",
       "      <td>...</td>\n",
       "      <td>...</td>\n",
       "      <td>...</td>\n",
       "      <td>...</td>\n",
       "    </tr>\n",
       "    <tr>\n",
       "      <td>135</td>\n",
       "      <td>Hard-Boiled</td>\n",
       "      <td>1992</td>\n",
       "      <td>92</td>\n",
       "      <td>Boasting impactful action as well as surprisin...</td>\n",
       "    </tr>\n",
       "    <tr>\n",
       "      <td>136</td>\n",
       "      <td>The Matrix</td>\n",
       "      <td>1999</td>\n",
       "      <td>83</td>\n",
       "      <td>Thanks to the Wachowskis' imaginative vision, ...</td>\n",
       "    </tr>\n",
       "    <tr>\n",
       "      <td>137</td>\n",
       "      <td>Terminator 2: Judgment Day</td>\n",
       "      <td>1991</td>\n",
       "      <td>91</td>\n",
       "      <td>T2 features thrilling action sequences and eye...</td>\n",
       "    </tr>\n",
       "    <tr>\n",
       "      <td>138</td>\n",
       "      <td>Die Hard</td>\n",
       "      <td>1988</td>\n",
       "      <td>94</td>\n",
       "      <td>Its many imitators (and sequels) have never co...</td>\n",
       "    </tr>\n",
       "    <tr>\n",
       "      <td>139</td>\n",
       "      <td>Mad Max: Fury Road</td>\n",
       "      <td>2015</td>\n",
       "      <td>97</td>\n",
       "      <td>With exhilarating action and a surprising amou...</td>\n",
       "    </tr>\n",
       "  </tbody>\n",
       "</table>\n",
       "<p>140 rows × 4 columns</p>\n",
       "</div>"
      ],
      "text/plain": [
       "                     Movie Name  Year  Score  \\\n",
       "0                Running Scared  1986     63   \n",
       "1                   Equilibrium  2002     40   \n",
       "2                          Hero  2002     94   \n",
       "3                    Road House  1989     41   \n",
       "4                   Unstoppable  2010     87   \n",
       "..                          ...   ...    ...   \n",
       "135                 Hard-Boiled  1992     92   \n",
       "136                  The Matrix  1999     83   \n",
       "137  Terminator 2: Judgment Day  1991     91   \n",
       "138                    Die Hard  1988     94   \n",
       "139          Mad Max: Fury Road  2015     97   \n",
       "\n",
       "                                      Consensus Critic  \n",
       "0    Running Scared struggles to strike a consisten...  \n",
       "1    Equilibrium is a reheated mishmash of other sc...  \n",
       "2    With death-defying action sequences and epic h...  \n",
       "3    Whether Road House is simply bad or so bad it'...  \n",
       "4    As fast, loud, and relentless as the train at ...  \n",
       "..                                                 ...  \n",
       "135  Boasting impactful action as well as surprisin...  \n",
       "136  Thanks to the Wachowskis' imaginative vision, ...  \n",
       "137  T2 features thrilling action sequences and eye...  \n",
       "138  Its many imitators (and sequels) have never co...  \n",
       "139  With exhilarating action and a surprising amou...  \n",
       "\n",
       "[140 rows x 4 columns]"
      ]
     },
     "execution_count": 14,
     "metadata": {},
     "output_type": "execute_result"
    }
   ],
   "source": [
    "movies_info = pd.DataFrame()\n",
    "\n",
    "movies_info['Movie Name'] = movie_names\n",
    "movies_info['Year'] = years\n",
    "movies_info['Score'] = scores\n",
    "movies_info['Consensus Critic'] = consensus_txt\n",
    "\n",
    "movies_info"
   ]
  },
  {
   "cell_type": "code",
   "execution_count": null,
   "metadata": {},
   "outputs": [],
   "source": []
  }
 ],
 "metadata": {
  "kernelspec": {
   "display_name": "Python 3",
   "language": "python",
   "name": "python3"
  },
  "language_info": {
   "codemirror_mode": {
    "name": "ipython",
    "version": 3
   },
   "file_extension": ".py",
   "mimetype": "text/x-python",
   "name": "python",
   "nbconvert_exporter": "python",
   "pygments_lexer": "ipython3",
   "version": "3.7.1"
  }
 },
 "nbformat": 4,
 "nbformat_minor": 2
}
